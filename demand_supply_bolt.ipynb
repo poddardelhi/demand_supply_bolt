{
  "nbformat": 4,
  "nbformat_minor": 0,
  "metadata": {
    "colab": {
      "name": "demand_supply_bolt.ipynb",
      "provenance": [],
      "include_colab_link": true
    },
    "kernelspec": {
      "display_name": "Python 3",
      "language": "python",
      "name": "python3"
    },
    "language_info": {
      "codemirror_mode": {
        "name": "ipython",
        "version": 3
      },
      "file_extension": ".py",
      "mimetype": "text/x-python",
      "name": "python",
      "nbconvert_exporter": "python",
      "pygments_lexer": "ipython3",
      "version": "3.7.6"
    }
  },
  "cells": [
    {
      "cell_type": "markdown",
      "metadata": {
        "id": "view-in-github",
        "colab_type": "text"
      },
      "source": [
        "<a href=\"https://colab.research.google.com/github/poddardelhi/demand_supply_bolt/blob/main/demand_supply_bolt.ipynb\" target=\"_parent\"><img src=\"https://colab.research.google.com/assets/colab-badge.svg\" alt=\"Open In Colab\"/></a>"
      ]
    },
    {
      "cell_type": "markdown",
      "metadata": {
        "id": "gyU-ROMlnXFS"
      },
      "source": [
        "# Bolt - Supply and Demand Home Assignement\n"
      ]
    },
    {
      "cell_type": "markdown",
      "metadata": {
        "id": "FjIA-fXrezmi"
      },
      "source": [
        "# Libraries\n"
      ]
    },
    {
      "cell_type": "code",
      "metadata": {
        "id": "hJXKoGH9e7Am"
      },
      "source": [
        "# Importing the necessary libraries\n",
        "import numpy as np\n",
        "import pandas as pd\n",
        "import pandas_profiling\n",
        "import seaborn as sns\n",
        "import matplotlib.pyplot as plt\n",
        "\n",
        "%matplotlib inline"
      ],
      "execution_count": 5,
      "outputs": []
    },
    {
      "cell_type": "markdown",
      "metadata": {
        "id": "ZeT7RTAXoCsN"
      },
      "source": [
        "# Jovian Commit Pre-requisites\n",
        "\n"
      ]
    },
    {
      "cell_type": "code",
      "metadata": {
        "colab": {
          "base_uri": "https://localhost:8080/",
          "height": 106
        },
        "id": "EB1v87apYl9h",
        "outputId": "78875aa1-0d0e-474a-fea1-c498a8797b11"
      },
      "source": [
        "# Jovian Commit Essentials\n",
        "# Please retain and execute this cell without modifying the contents for `jovian.commit` to work\n",
        "!pip install jovian --upgrade -q\n",
        "import jovian\n",
        "jovian.utils.colab.set_colab_file_id('1cgvsbD6kj8ennNijI4cjTBNbYdipKKvj')\n",
        "project_name = \"demand-supply-bolt\" \n",
        "jovian.commit(project=project_name)"
      ],
      "execution_count": 11,
      "outputs": [
        {
          "output_type": "stream",
          "text": [
            "[jovian] Detected Colab notebook...\u001b[0m\n",
            "[jovian] Uploading colab notebook to Jovian...\u001b[0m\n",
            "[jovian] Capturing environment..\u001b[0m\n",
            "[jovian] Committed successfully! https://jovian.ai/poddardelhi/demand-supply-bolt\u001b[0m\n"
          ],
          "name": "stdout"
        },
        {
          "output_type": "execute_result",
          "data": {
            "application/vnd.google.colaboratory.intrinsic+json": {
              "type": "string"
            },
            "text/plain": [
              "'https://jovian.ai/poddardelhi/demand-supply-bolt'"
            ]
          },
          "metadata": {
            "tags": []
          },
          "execution_count": 11
        }
      ]
    },
    {
      "cell_type": "markdown",
      "metadata": {
        "id": "J8vT_0ksZxPg"
      },
      "source": [
        "# Access to Gdrive"
      ]
    },
    {
      "cell_type": "code",
      "metadata": {
        "colab": {
          "base_uri": "https://localhost:8080/"
        },
        "id": "epqLRgyBn0XF",
        "outputId": "0874c7b6-f9f0-4f93-b039-eed6d27c627b"
      },
      "source": [
        "from google.colab import drive\n",
        "drive.mount('/content/drive')"
      ],
      "execution_count": 2,
      "outputs": [
        {
          "output_type": "stream",
          "text": [
            "Mounted at /content/drive\n"
          ],
          "name": "stdout"
        }
      ]
    },
    {
      "cell_type": "markdown",
      "metadata": {
        "id": "lcMqoR_fbe8Y"
      },
      "source": [
        "# Requirements from the task:\n",
        "\n",
        "1.   Show which 36 hours in a week are most undersupplied. Show/describe your decision based on sample data\n",
        "2.   24-hour curve of average supply and demand (to illustrate match/mismatch).\n",
        "3. Visualisation of hours where we lack supply during a weekly period. This one we can send to drivers to show when to online for extra hours.\n",
        "4. Estimate number of hours needed to ensure we have a high Coverage Ratio during most peak hours.\n",
        "5. Calculate levels of guaranteed hourly earnings we can offer to drivers during 36 weekly hours with highest demand without losing money + how much extra hours we want to get to capture missed demand.\n",
        "  \n",
        "*   Assume that Finished Rides have an average value of €10 (80% goes to driver,\n",
        "20% is our revenue).\n",
        "*    Assume the same level of demand with increased supply, base it on RPH over 3 hour periods, but with increased supply.\n",
        "* Assume that with extra hours we will capture “missed coverage” or people\n",
        "attributed to “People saw 0 cars” in demand data.\n"
      ]
    },
    {
      "cell_type": "markdown",
      "metadata": {
        "id": "wKt5gbUwcuix"
      },
      "source": [
        "# Supply Data Info:\n",
        "\n",
        "\n",
        "*   **Date​** – date + hour for which the row of data is presented\n",
        "*   **Active drivers**​ – number of active drivers (any level of activity) available during time period.\n",
        "* **Online (h**)​ – total supply hours that were available during time period.\n",
        "* **Has booking (h)**​ – total hours during which drivers had a client booking (any state).\n",
        "* **Waiting for booking (h)​** – total hours which drivers spent waiting for booking.\n",
        "* **Busy (h)**​ – total hours which drivers were not available to take orders in\n",
        "* **Hours per active driver**​ – average number of hours each driver was online\n",
        "during time period.\n",
        "* **Rides per online hour**​ – aka ​RPH​ – avg. finished trips per online hour during period.\n",
        "* **Finished Rides**​ – number of finished trips during period.\n",
        "\n",
        "# Demand Data Info:\n",
        "\n",
        "* **Date​** – date + hour for which the row of data is presented.\n",
        "* **People saw 0 cars (unique)​** – number of users who didn’t not see a car.\n",
        "* **People saw 0 cars (unique)​** – number of users who didn’t not see a car.\n",
        "* **Coverage Ratio (unique)**​ – % of users who saw the car\n",
        "\n",
        "\n"
      ]
    },
    {
      "cell_type": "markdown",
      "metadata": {
        "id": "WvBbsW4gem5I"
      },
      "source": [
        "# Data Profiling"
      ]
    },
    {
      "cell_type": "code",
      "metadata": {
        "id": "cOCI-viJesmA"
      },
      "source": [
        "supply_df = pd.read_csv(\"/content/drive/MyDrive/Jovian/Bolt_2/Hourly_DriverActivity_1.csv - Hourly_DriverActivity_1.csv.csv\")\n",
        "demand_df = pd.read_csv(\"/content/drive/MyDrive/Jovian/Bolt_2/Hourly_OverviewSearch_1.csv - Hourly_OverviewSearch_1.csv.csv\")"
      ],
      "execution_count": 8,
      "outputs": []
    },
    {
      "cell_type": "code",
      "metadata": {
        "colab": {
          "base_uri": "https://localhost:8080/"
        },
        "id": "kMtJYPOSfViJ",
        "outputId": "1af32935-567b-4a91-c79f-7bb5c38e52bc"
      },
      "source": [
        "supply_df.shape"
      ],
      "execution_count": 9,
      "outputs": [
        {
          "output_type": "execute_result",
          "data": {
            "text/plain": [
              "(840, 9)"
            ]
          },
          "metadata": {
            "tags": []
          },
          "execution_count": 9
        }
      ]
    },
    {
      "cell_type": "code",
      "metadata": {
        "colab": {
          "base_uri": "https://localhost:8080/"
        },
        "id": "qDMwBTv9fnso",
        "outputId": "28c5a08e-240b-4b14-fcfc-1319f7cfa9ea"
      },
      "source": [
        "demand_df.shape"
      ],
      "execution_count": 10,
      "outputs": [
        {
          "output_type": "execute_result",
          "data": {
            "text/plain": [
              "(839, 4)"
            ]
          },
          "metadata": {
            "tags": []
          },
          "execution_count": 10
        }
      ]
    },
    {
      "cell_type": "code",
      "metadata": {
        "id": "gq9R7u4ofqkB"
      },
      "source": [
        ""
      ],
      "execution_count": null,
      "outputs": []
    }
  ]
}